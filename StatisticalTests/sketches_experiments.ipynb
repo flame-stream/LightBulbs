{
 "cells": [
  {
   "cell_type": "code",
   "execution_count": 1,
   "metadata": {
    "scrolled": true
   },
   "outputs": [],
   "source": [
    "import matplotlib.pyplot as plt\n",
    "import random\n",
    "import sys\n",
    "import mmh3\n",
    "import numpy as np\n",
    "import pandas as pd\n",
    "import scipy.stats\n",
    "import ipywidgets as widgets\n",
    "\n",
    "from multiprocessing import Process\n",
    "from copy import copy\n",
    "from datasketches import KllFloatSketch\n",
    "from collections import deque\n",
    "from enum import Enum\n",
    "from ipywidgets import HBox, VBox\n",
    "from IPython.display import display\n",
    "\n",
    "%matplotlib inline"
   ]
  },
  {
   "cell_type": "code",
   "execution_count": 2,
   "metadata": {},
   "outputs": [],
   "source": [
    "class Status(Enum):\n",
    "    GREEN = 1\n",
    "    YELLOW = 2\n",
    "    RED = 3"
   ]
  },
  {
   "cell_type": "code",
   "execution_count": 3,
   "metadata": {},
   "outputs": [],
   "source": [
    "class Worker:\n",
    "    def __init__(self, worker_id, sketch_k=4000):\n",
    "        self.id = worker_id\n",
    "        self.sketch_k = sketch_k\n",
    "        self.reset_sketch()\n",
    "        self.trash = None\n",
    "        self.ks_p_values = []\n",
    "        self.status = Status.GREEN\n",
    "        self.counter = 0\n",
    "    \n",
    "    def push(self, value, repeat_test=1, test=True):\n",
    "        self.counter += 1\n",
    "        self.sketch.update(value)\n",
    "        if test and self.counter % repeat_test == 0:\n",
    "            self.test()\n",
    "        return self.status\n",
    "    \n",
    "    def reset_sketch(self):\n",
    "        self.sketch = KllFloatSketch(self.sketch_k)\n",
    "    \n",
    "    def reset_trash(self):\n",
    "        self.trash = self.counter + 1\n",
    "    \n",
    "    def sketch_values(self):\n",
    "        m = self.sketch.getNumRetained()\n",
    "        values = self.sketch.getQuantiles(list(np.arange(m) / m))\n",
    "        return values\n",
    "    \n",
    "    def sketch_mean(self):\n",
    "        return np.mean(self.sketch_values())\n",
    "\n",
    "    def sketch_std(self):\n",
    "        return np.std(self.sketch_values())\n",
    "\n",
    "    def test(self, alpha=0.05):\n",
    "        m = self.sketch.getNumRetained()\n",
    "        values = self.sketch.getQuantiles(list(np.arange(m) / m))\n",
    "\n",
    "        mu = np.mean(values)\n",
    "        std = np.std(values)\n",
    "        \n",
    "        values = values - self.sketch_mean()\n",
    "        values = values / self.sketch_std()\n",
    "        _, ks_p_value = scipy.stats.kstest(values, 'norm')\n",
    "        \n",
    "        self.status = Status.GREEN\n",
    "        self.ks_p_values.append(ks_p_value)\n",
    "\n",
    "        if ks_p_value < alpha:\n",
    "            self.status = Status.RED"
   ]
  },
  {
   "cell_type": "code",
   "execution_count": 4,
   "metadata": {},
   "outputs": [],
   "source": [
    "class StreamProcessor:\n",
    "    def __init__(self, n_workers=1, k=4000):\n",
    "        self.n_workers = n_workers\n",
    "        self.workers = \\\n",
    "            [Worker(i, sketch_k=k) for i in range(n_workers)]\n",
    "        self.single_detection = False\n",
    "        self.single_detection_time = None\n",
    "        self.majority_detection_time = None\n",
    "        self.all_detection_time = None\n",
    "        self.majority_detection = False\n",
    "        self.all_detection = False\n",
    "        self.status = {i : self.workers[i].status for i in range(n_workers)}\n",
    "        self.counter = 0\n",
    "\n",
    "    def push(self, ids, values, test=True, hash_type='id', repeat_test=1, verbose=True, ret='votes'):\n",
    "        if test:\n",
    "            self.trash = self.counter + 1\n",
    "        \n",
    "        assert len(ids) == len(values)\n",
    "        self.repeat_test = repeat_test\n",
    "        \n",
    "        sum_history = []\n",
    "        single_vote = 0\n",
    "        majority_vote = 0\n",
    "        all_vote = 0\n",
    "        vote_sum = 0\n",
    "        \n",
    "        for i in range(len(values)):            \n",
    "            if hash_type == 'roundrobin':\n",
    "                ind = self.counter % self.n_workers\n",
    "            else:\n",
    "                if hash_type == 'id':\n",
    "                    hash_key = str(ids[i])\n",
    "                else:\n",
    "                    hash_key = str(values[i])\n",
    "                ind = mmh3.hash(hash_key + 'qwe') % self.n_workers\n",
    "            self.counter += 1\n",
    "            \n",
    "            st = self.workers[ind].push(values[i], repeat_test=repeat_test, test=test)\n",
    "            \n",
    "            if st == Status.RED:\n",
    "                self.status[ind] = st\n",
    "            \n",
    "            if test:\n",
    "                vote_sum = sum(1 for i, v in self.status.items() if v == Status.RED)\n",
    "                \n",
    "                if vote_sum >= 1 and single_vote == 0:\n",
    "                    single_vote = self.counter - self.trash\n",
    "                if vote_sum > self.n_workers // 2 and majority_vote == 0:\n",
    "                    majority_vote = self.counter - self.trash\n",
    "                if vote_sum == self.n_workers and all_vote == 0:\n",
    "                    all_vote = self.counter - self.trash\n",
    "                    break\n",
    "                \n",
    "                if ret == 'sum' and self.counter % repeat_test == 0:\n",
    "                    sum_history.append(vote_sum)\n",
    "        if ret == 'votes':\n",
    "            return single_vote, majority_vote, all_vote\n",
    "        return sum_history\n",
    "    \n",
    "    def update_status(self, verbose=False):\n",
    "        st = self.workers_status()\n",
    "        if self.single_detection is False:\n",
    "            if (st.count(Status.RED)) >= 1:\n",
    "                self.single_detection = True\n",
    "                self.single_detection_time = self.counter\n",
    "                if verbose:\n",
    "                    print(f\"single detection at step {self.counter}\")\n",
    "        if self.majority_detection is False:\n",
    "            if (st.count(Status.RED)) > self.n_workers // 2:\n",
    "                self.majority_detection = True\n",
    "                self.majority_detection_time = self.counter\n",
    "                if verbose:\n",
    "                    print(f\"majority detection at step {self.counter}\")\n",
    "        if self.all_detection is False:\n",
    "            if (st.count(Status.RED)) == self.n_workers:\n",
    "                self.all_detection = True\n",
    "                self.all_detection_time = self.counter\n",
    "                if verbose:\n",
    "                    print(f\"all detection at step {self.counter}\")\n",
    "    \n",
    "    def reset_sketches(self):\n",
    "        for w in self.workers:\n",
    "            w.reset_sketch()\n",
    "\n",
    "    def set_trash_count(self, cnt=-1):\n",
    "        if cnt == -1:\n",
    "            self.trash = self.counter + 1\n",
    "        else:\n",
    "            self.trash = cnt\n",
    "\n",
    "    def reset_p_values(self):\n",
    "        for w in self.workers:\n",
    "            w.reset_p_values()\n",
    "            \n",
    "    def workers_status(self):\n",
    "        return [w.status for w in self.workers]\n",
    "    \n",
    "    def plot_p_values(self, grid_size=100):\n",
    "        plt.figure(figsize=(16, 4 * self.n_workers))\n",
    "        gs = plt.GridSpec(self.n_workers, 1)\n",
    "\n",
    "        for i in range(self.n_workers):\n",
    "            ks_p_values = self.workers[i].ks_p_values\n",
    "            x = np.array(range(0, len(ks_p_values) * self.repeat_test, self.repeat_test))\n",
    "            \n",
    "            plt.subplot(gs[i,0])\n",
    "            plt.plot(x, ks_p_values, 'r', label='kolmogorov-smirnov')\n",
    "            plt.legend(loc='upper left')\n",
    "            plt.axhline(0.05)\n",
    "            if self.workers[i].trash is not None:\n",
    "                plt.axvline(self.workers[i].trash // self.repeat_test)\n",
    "            plt.subplots_adjust(hspace=0.4)\n",
    "            plt.title(f\"{i}-th worker\")\n",
    "            plt.ylabel('p-value')\n",
    "        plt.tight_layout()\n",
    "        plt.show()\n",
    "    "
   ]
  },
  {
   "cell_type": "code",
   "execution_count": 5,
   "metadata": {},
   "outputs": [],
   "source": [
    "def generate_params_from_id(uid):\n",
    "    mu = uid * 1\n",
    "    sigma = 1\n",
    "    return mu, sigma\n",
    "\n",
    "\n",
    "def gererate_uniform_data(a=0, b=1, size=10000):\n",
    "    values = np.random.uniform(a, b, size)\n",
    "    ids = np.random.randint(0, size // 10, size)\n",
    "    return ids, values\n",
    "\n",
    "\n",
    "def gererate_normal_data(mu=0, sigma=1, size=10000):\n",
    "    values = np.random.normal(mu, sigma, size)\n",
    "    ids = np.random.randint(0, size // 10, size)\n",
    "    return ids, values\n",
    "\n",
    "\n",
    "def gererate_trash_from_ids(cond, mu=0, sigma=1, size=10000):\n",
    "    values = np.zeros(size)\n",
    "    ids = np.zeros(size)\n",
    "    for i in range(size):\n",
    "        uid = random.randint(0, 32)\n",
    "        ids[i] = uid\n",
    "        values[i] = random.gauss(10, 2) if cond(uid) else random.gauss(mu, sigma)\n",
    "    return ids, values\n",
    "\n",
    "\n",
    "def get_height_data():\n",
    "    url = 'http://socr.ucla.edu/docs/resources/SOCR_Data/SOCR_Data_Dinov_020108_HeightsWeights.html'\n",
    "    df = pd.read_html(url)[0][1:]\n",
    "    return np.array(df[0], dtype='int'), np.array(df[1], dtype='float64')\n",
    "\n",
    "\n",
    "# procs = []\n",
    "# norm_ids, norm_values = gererate_normal_data(0, 1, 1000)\n",
    "\n",
    "# @widgets.interact_manual(\n",
    "#     n_workers=[1, 2, 4, 8, 16],\n",
    "#     hash_by_id=[True, False],\n",
    "#     test_values=['norm', 'uni'],\n",
    "#     a=list(range(-100, 100)),\n",
    "#     b=list(range(100)),\n",
    "#     size=[i for i in range(50, 15000, 50)]\n",
    "# )\n",
    "# def test(n_workers=1, hash_by_id=True, test_values='norm', a=0, b=1, size=500):\n",
    "#     proc = StreamProcessor(n_workers=n_workers)\n",
    "#     proc.push(norm_ids, norm_values, test=False)\n",
    "#     proc.set_trash_count()\n",
    "#     ids, vals = generator(a, b, test_values, size)\n",
    "#     proc.push(ids, vals)\n",
    "#     show_info(proc)\n",
    "#     proc.plot_p_values()\n",
    "# #     print(f\"workers: {n_workers}, hash by id: {hash_by_id}, size\")\n",
    "\n",
    "# def gererate_users_weight_data(users, size):\n",
    "#     i = random.randint(0, len(users))\n",
    "#     values = np.zeros(size)\n",
    "#     ids = np.zeros(size)\n",
    "#     for i in range(size):\n",
    "#         ids[i] = uid\n",
    "#         mu, std = users_id[uid]\n",
    "#         values[i] = random.gauss(mu, std)\n",
    "#     return ids, values"
   ]
  },
  {
   "cell_type": "code",
   "execution_count": 6,
   "metadata": {},
   "outputs": [],
   "source": [
    "ids, height = get_height_data()\n",
    "np.random.shuffle(height)\n",
    "a = height.min()\n",
    "b = height.max()"
   ]
  },
  {
   "cell_type": "code",
   "execution_count": null,
   "metadata": {},
   "outputs": [
    {
     "name": "stdout",
     "output_type": "stream",
     "text": [
      "n = 1, fv = 159.00, mv = 159.00, av = 159.00\n",
      "n = 2, fv = 75.50, mv = 503.50, av = 503.50\n",
      "n = 3, fv = 51.00, mv = 285.33, av = 333.00\n",
      "n = 4, fv = 122.50, mv = 146.50, av = 176.75\n",
      "n = 5, fv = 120.60, mv = 140.20, av = 229.40\n",
      "n = 6, fv = 87.83, mv = 207.00, av = 316.50\n",
      "n = 7, fv = 108.29, mv = 175.57, av = 0.00\n",
      "n = 8, fv = 61.75, mv = 166.50, av = 0.00\n",
      "n = 9, fv = 95.89, mv = 253.11, av = 624.56\n",
      "n = 10, fv = 91.50, mv = 229.80, av = 640.80\n",
      "n = 11, fv = 88.36, mv = 246.36, av = 0.00\n",
      "n = 12, fv = 103.92, mv = 308.83, av = 0.00\n",
      "n = 13, fv = 45.31, mv = 215.31, av = 0.00\n",
      "n = 14, fv = 136.00, mv = 281.29, av = 0.00\n"
     ]
    }
   ],
   "source": [
    "n_test = 1\n",
    "max_n_shards = 16\n",
    "\n",
    "fvs = []\n",
    "mvs = []\n",
    "avs = []\n",
    "\n",
    "for i in range(1, max_n_shards + 1):\n",
    "    fv_mean = 0\n",
    "    mv_mean = 0\n",
    "    av_mean = 0\n",
    "    for j in range(n_test):\n",
    "        proc = StreamProcessor(n_workers=i)\n",
    "        proc.push(ids[:i * 1000], height[:i * 1000], test=False)\n",
    "        uni_ids, vals = gererate_uniform_data(a, b, size=i * 1000)\n",
    "        fv, mv, av = proc.push(uni_ids, vals, test=True, repeat_test=10)\n",
    "        fv_mean += fv\n",
    "        mv_mean += mv\n",
    "        av_mean += av\n",
    "    fv_mean /= i\n",
    "    mv_mean /= i\n",
    "    av_mean /= i\n",
    "    \n",
    "    fvs.append(fv_mean)\n",
    "    mvs.append(mv_mean)\n",
    "    avs.append(av_mean)\n",
    "    print(f\"n = {i}, fv = {fv_mean:.2f}, mv = {mv_mean:.2f}, av = {av_mean:.2f}\")"
   ]
  },
  {
   "cell_type": "code",
   "execution_count": 18,
   "metadata": {},
   "outputs": [
    {
     "data": {
      "text/plain": [
       "<matplotlib.legend.Legend at 0x7ff49d835080>"
      ]
     },
     "execution_count": 18,
     "metadata": {},
     "output_type": "execute_result"
    },
    {
     "data": {
      "image/png": "[encoded data removed]",
      "text/plain": [
       "<Figure size 432x288 with 1 Axes>"
      ]
     },
     "metadata": {},
     "output_type": "display_data"
    }
   ],
   "source": [
    "x = np.arange(1, max_n_shards + 1)\n",
    "plt.plot(x, fvs, 'go', label='first vote')\n",
    "plt.plot(x, mvs, 'yo', label='majority vote')\n",
    "plt.plot(x, avs, 'ro', label='all vote')\n",
    "plt.title('change detection chart')\n",
    "plt.ylabel('time')\n",
    "plt.xlabel('n shards')\n",
    "plt.legend(loc='lower right')"
   ]
  },
  {
   "cell_type": "code",
   "execution_count": 25,
   "metadata": {},
   "outputs": [
    {
     "data": {
      "text/plain": [
       "<matplotlib.legend.Legend at 0x7ff49de0db70>"
      ]
     },
     "execution_count": 25,
     "metadata": {},
     "output_type": "execute_result"
    },
    {
     "data": {
      "image/png": "[encoded data removed]",
      "text/plain": [
       "<Figure size 432x288 with 1 Axes>"
      ]
     },
     "metadata": {},
     "output_type": "display_data"
    }
   ],
   "source": [
    "n = 32\n",
    "n_test = 10\n",
    "repeat=10\n",
    "size = 500\n",
    "\n",
    "norm_ids, norm_vals = gererate_normal_data(100, 10, n * size)\n",
    "uni_ids, vals = gererate_uniform_data(a-5, b+5, size=n * size)\n",
    "\n",
    "common_d_by_id = np.zeros(n * size // repeat)\n",
    "common_d_by_value = np.zeros(n * size // repeat)\n",
    "common_d_robin = np.zeros(n * size // repeat)\n",
    "\n",
    "for i in range(n_test):\n",
    "    proc = StreamProcessor(n_workers=n, k=64)\n",
    "    proc.push(norm_ids, norm_vals, hash_type='id', test=False)\n",
    "    d = proc.push(uni_ids, vals, test=True, hash_type='id', repeat_test=repeat, ret='sum')\n",
    "    common_d_by_id += d\n",
    "    print(f'test {i}')\n",
    "\n",
    "for i in range(n_test):\n",
    "    proc = StreamProcessor(n_workers=n, k=64)\n",
    "    proc.push(norm_ids, norm_vals, hash_type='value', test=False)\n",
    "    d = proc.push(uni_ids, vals, test=True, hash_type='value', repeat_test=repeat, ret='sum')\n",
    "    common_d_by_value += d\n",
    "    print(f'test {i}')\n",
    "\n",
    "for i in range(n_test):\n",
    "    proc = StreamProcessor(n_workers=n, k=64)\n",
    "    proc.push(norm_ids, norm_vals, hash_type='roundrobin', test=False)\n",
    "    d = proc.push(uni_ids, vals, test=True, hash_type='roundrobin', repeat_test=repeat, ret='sum')\n",
    "    common_d_robin += d\n",
    "    print(f'test {i}')\n",
    "\n",
    "common_d_by_id /= n_test\n",
    "common_d_by_value /= n_test\n",
    "common_d_robin /= n_test\n",
    "\n",
    "# np.save('by_value3', np.array(common_d_by_value))\n",
    "# np.save('by_id3', np.array(common_d_by_id))\n",
    "# np.save('robin3', np.array(common_d_robin))\n",
    "\n",
    "x = np.arange(0, len(common_d_by_id) * repeat, repeat)\n",
    "# plt.figure(figsize=(16, 10))\n",
    "fr = 1000\n",
    "to = len(common_d_by_id) // 2\n",
    "\n",
    "plt.plot(x[fr:to], common_d_by_id[fr:to], 'r', label='id hashing')\n",
    "plt.plot(x[fr:to], common_d_by_value[fr:to], 'b', label='value hashing')\n",
    "plt.plot(x[fr:to], common_d_robin[fr:to], 'g', label='round robin')\n",
    "plt.title('change detection on 32 shards')\n",
    "plt.ylabel('n lightened shards')\n",
    "plt.xlabel('time')\n",
    "plt.axhline(n)\n",
    "plt.legend(loc='lower right')"
   ]
  },
  {
   "cell_type": "code",
   "execution_count": 28,
   "metadata": {},
   "outputs": [
    {
     "data": {
      "text/plain": [
       "<matplotlib.legend.Legend at 0x7ff49dc77a58>"
      ]
     },
     "execution_count": 28,
     "metadata": {},
     "output_type": "execute_result"
    },
    {
     "data": {
      "image/png": "[encoded data removed]",
      "text/plain": [
       "<Figure size 432x288 with 1 Axes>"
      ]
     },
     "metadata": {},
     "output_type": "display_data"
    }
   ],
   "source": [
    "fr = 1000\n",
    "to = 1300\n",
    "\n",
    "plt.plot(x[fr:to], common_d_by_id[fr:to], 'r', label='id hashing')\n",
    "plt.plot(x[fr:to], common_d_by_value[fr:to], 'b', label='value hashing')\n",
    "plt.plot(x[fr:to], common_d_robin[fr:to], 'g', label='round robin')\n",
    "plt.title('change detection on 32 shards')\n",
    "plt.ylabel('n lightened shards')\n",
    "plt.xlabel('time')\n",
    "# plt.axhline(n)\n",
    "plt.legend(loc='lower right')"
   ]
  },
  {
   "cell_type": "code",
   "execution_count": 29,
   "metadata": {},
   "outputs": [
    {
     "data": {
      "text/plain": [
       "<matplotlib.legend.Legend at 0x7ff49dbf19e8>"
      ]
     },
     "execution_count": 29,
     "metadata": {},
     "output_type": "execute_result"
    },
    {
     "data": {
      "image/png": "[encoded data removed]",
      "text/plain": [
       "<Figure size 432x288 with 1 Axes>"
      ]
     },
     "metadata": {},
     "output_type": "display_data"
    }
   ],
   "source": [
    "n = 32\n",
    "common_d_by_id = np.load('by_id2.npy')\n",
    "common_d_by_value = np.load('by_value2.npy')\n",
    "common_d_robin = np.load('robin2.npy')\n",
    "repeat = 5\n",
    "x = np.arange(0, len(common_d_by_id) * repeat, repeat)\n",
    "# plt.figure(figsize=(16, 10))\n",
    "to = 3000\n",
    "fr = 1000\n",
    "plt.plot(x[fr:to], common_d_by_id[fr:to], 'r', label='хэширование по id')\n",
    "plt.plot(x[fr:to], common_d_robin[fr:to], 'g', label='round robin')\n",
    "plt.plot(x[fr:to], common_d_by_value[fr:to], 'b', label='хэширование по значению')\n",
    "plt.title('обнаружение изменений на 32 обработчиках')\n",
    "plt.ylabel('количество среагировавших обработчиков')\n",
    "plt.xlabel('время')\n",
    "plt.axhline(n)\n",
    "plt.legend(loc='lower right')"
   ]
  },
  {
   "cell_type": "code",
   "execution_count": null,
   "metadata": {},
   "outputs": [],
   "source": [
    "# proc = StreamProcessor(n_workers=n)\n",
    "# proc.push(ids, height, hash_by_id=False, test=False)\n",
    "# d = proc.push(uni_ids, vals, hash_by_id=False, test=True, repeat_test=repeat)\n",
    "# x = np.arange(0, len(d) * repeat, repeat)\n",
    "# plt.plot(x, d)\n",
    "# plt.axhline(n)"
   ]
  },
  {
   "cell_type": "code",
   "execution_count": null,
   "metadata": {},
   "outputs": [],
   "source": [
    "# def test(n=1, n_tests=1, size=1000, test_size=1000, hash_by_id=False):\n",
    "#     detection_times = []\n",
    "#     for i in range(n_tests):\n",
    "#         proc = StreamProcessor(n_workers=n)\n",
    "#         proc.push(ids[:size], height[:size], test=False, hash_by_id=hash_by_id)\n",
    "        \n",
    "#         uni_ids, vals = gererate_uni_data(a, b, size=test_size)\n",
    "#         time = proc.push1(uni_ids, vals, test=True, repeat_test=20, hash_by_id=hash_by_id)\n",
    "#         detection_times.append(time)\n",
    "#     mean = np.mean([t for t in detection_times if t is not None])\n",
    "#     none_prop = detection_times.count(None) / len(detection_times)\n",
    "#     print(f\"test for {n} workers finished, mean: {mean}\")\n",
    "# #     with open(f'experiments/{n}_workers.txt', 'w') as f:\n",
    "# #         f.write(f\"{mean}, {none_prop}\")\n",
    "#     return mean, none_prop"
   ]
  },
  {
   "cell_type": "code",
   "execution_count": null,
   "metadata": {
    "scrolled": true
   },
   "outputs": [],
   "source": [
    "# for n in n_workers:\n",
    "#     detections.append(test(n=n, n_tests=50, size=n * 1000, test_size=n * 1000, hash_by_id=True))"
   ]
  },
  {
   "cell_type": "code",
   "execution_count": null,
   "metadata": {},
   "outputs": [],
   "source": [
    "# def gererate_users_weight_data(users, size):\n",
    "#     i = random.randint(0, len(users))\n",
    "#     values = np.zeros(size)\n",
    "#     ids = np.zeros(size)\n",
    "#     for i in range(size):\n",
    "#         ids[i] = i\n",
    "#         mu, std = users[i]\n",
    "#         values[i] = random.gauss(mu, std)\n",
    "#     return ids, values\n",
    "\n",
    "# size = 10000\n",
    "# ids, values = gererate_users_weight_data(users_id, size)\n",
    "# new_ids, new_values = gererate_users_weight_data(users_id, 1000)\n",
    "\n",
    "# data_min = np.min(values)\n",
    "# data_max = np.max(values)"
   ]
  },
  {
   "cell_type": "code",
   "execution_count": null,
   "metadata": {},
   "outputs": [],
   "source": [
    "# dots = [(i, v[0]) for i, v in enumerate(detections, start=1) if v[1] != 1]\n",
    "# x = [i[0] for i in dots]\n",
    "# y = [i[1] for i in dots]\n",
    "# plt.plot(x, y)\n",
    "# plt.xlabel('n workers')\n",
    "# plt.ylabel('mean time of first change detection')"
   ]
  },
  {
   "cell_type": "code",
   "execution_count": null,
   "metadata": {},
   "outputs": [],
   "source": [
    "# n_detections = []\n",
    "# for n in n_workers:\n",
    "#     n_detections.append(test(n=n, n_tests=50, size=n * 10000, test_size=n * 1000, hash_by_id=True))"
   ]
  },
  {
   "cell_type": "code",
   "execution_count": null,
   "metadata": {},
   "outputs": [],
   "source": [
    "# processes = [\n",
    "#     Process(target=test(n=n, n_tests=100, size=10000, test_size=2000, hash_by_id=True)) for n in n_workers\n",
    "# ]\n",
    "# for p in processes:\n",
    "#     p.start()\n",
    "# for p in processes:\n",
    "#     p.join()"
   ]
  }
 ],
 "metadata": {
  "kernelspec": {
   "display_name": "Python 3",
   "language": "python",
   "name": "python3"
  },
  "language_info": {
   "codemirror_mode": {
    "name": "ipython",
    "version": 3
   },
   "file_extension": ".py",
   "mimetype": "text/x-python",
   "name": "python",
   "nbconvert_exporter": "python",
   "pygments_lexer": "ipython3",
   "version": "3.6.7"
  }
 },
 "nbformat": 4,
 "nbformat_minor": 2
}
