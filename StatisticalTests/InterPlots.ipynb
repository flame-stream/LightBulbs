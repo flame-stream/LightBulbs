{
 "cells": [
  {
   "cell_type": "code",
   "execution_count": 1,
   "metadata": {},
   "outputs": [],
   "source": [
    "import ipywidgets as widgets\n",
    "from ipywidgets import HBox, VBox\n",
    "import numpy as np\n",
    "import matplotlib.pyplot as plt\n",
    "from IPython.display import display\n",
    "import json\n",
    "%matplotlib inline\n",
    "%run main"
   ]
  },
  {
   "cell_type": "code",
   "execution_count": 2,
   "metadata": {},
   "outputs": [],
   "source": [
    "def plot_partitions(partitions, borderlines=None):\n",
    "    ps = len(partitions)\n",
    "    if ps > 1:\n",
    "        plt.figure(figsize=(20, 20))\n",
    "        plt.subplots_adjust(hspace=0.6)\n",
    "        for idx, (part, data) in enumerate(partitions.items()):\n",
    "            rows = ps // 2 \n",
    "            plt.subplot(rows, 2, idx + 1)\n",
    "            plt.scatter(*zip(*[d[0:2] for d in data]),s=5)\n",
    "            if borderlines:\n",
    "                plt.plot([borderlines[part], borderlines[part]], [0, 1],color='red')\n",
    "            plt.xlabel('size')\n",
    "            plt.ylabel('p-value')\n",
    "            plt.title('Partition: ' + str(part))\n",
    "    else:\n",
    "        for part, data in partitions.items():\n",
    "            plt.scatter(*zip(*[d[0:2] for d in data]),s=5)\n",
    "            if borderlines:\n",
    "                plt.plot([borderlines['0'], borderlines['0']], [0, 1],color='red')\n",
    "            plt.xlabel('size')\n",
    "            plt.ylabel('p-value')\n",
    "            plt.title('Partition: ' + str(part))\n",
    "    plt.savefig('new1.png')\n",
    "    plt.show()"
   ]
  },
  {
   "cell_type": "code",
   "execution_count": 3,
   "metadata": {},
   "outputs": [],
   "source": [
    "def file_plot(json_file):\n",
    "    f = open(json_file, 'r')\n",
    "    data = json.load(f)\n",
    "    f.close()\n",
    "    dist_types = set()\n",
    "    files = set()\n",
    "    paral_sizes = set()\n",
    "    lamds = set()\n",
    "    steps = set()\n",
    "    for inform in data:\n",
    "        params = inform.split()\n",
    "        dist_types.add(params[0])\n",
    "        files.add(params[1])\n",
    "        paral_sizes.add(params[2])\n",
    "        lamds.add(params[3])\n",
    "        steps.add(params[4])\n",
    "    params ={'dist_type':list(dist_types),\n",
    "            'file':list(files),\n",
    "            'paral_size':list(paral_sizes),\n",
    "            'lamd':list(lamds),\n",
    "            'window_size':list(steps)}\n",
    "    @widgets.interact(**params)\n",
    "    def draw_plot(dist_type, file, paral_size, lamd, window_size):\n",
    "        pvalues, borderlines = data[f'{dist_type} {file} {paral_size} {lamd} {window_size}']\n",
    "        plot_partitions(pvalues, borderlines)\n",
    "    "
   ]
  },
  {
   "cell_type": "code",
   "execution_count": 4,
   "metadata": {
    "scrolled": true
   },
   "outputs": [
    {
     "data": {
      "application/vnd.jupyter.widget-view+json": {
       "model_id": "22543ec95e6b419aab3d327ec5cebdf8",
       "version_major": 2,
       "version_minor": 0
      },
      "text/plain": [
       "interactive(children=(Dropdown(description='dist_type', options=('round', 'hash'), value='round'), Dropdown(de…"
      ]
     },
     "metadata": {},
     "output_type": "display_data"
    }
   ],
   "source": [
    "file_plot('test_results.json')"
   ]
  },
  {
   "cell_type": "code",
   "execution_count": null,
   "metadata": {},
   "outputs": [],
   "source": []
  }
 ],
 "metadata": {
  "kernelspec": {
   "display_name": "Python 3",
   "language": "python",
   "name": "python3"
  },
  "language_info": {
   "codemirror_mode": {
    "name": "ipython",
    "version": 3
   },
   "file_extension": ".py",
   "mimetype": "text/x-python",
   "name": "python",
   "nbconvert_exporter": "python",
   "pygments_lexer": "ipython3",
   "version": "3.7.0"
  }
 },
 "nbformat": 4,
 "nbformat_minor": 2
}
