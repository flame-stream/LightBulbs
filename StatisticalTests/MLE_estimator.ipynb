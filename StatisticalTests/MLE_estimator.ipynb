{
 "cells": [
  {
   "cell_type": "code",
   "execution_count": 11,
   "metadata": {},
   "outputs": [],
   "source": [
    "import mmh3\n",
    "import re\n",
    "from collections import defaultdict, Counter\n",
    "\n",
    "import numpy as np\n",
    "from rpy2 import robjects\n",
    "from scipy.stats import chisquare\n",
    "\n",
    "robjects.r(\"version\")\n",
    "from rpy2.robjects.packages import importr\n",
    "import rpy2.robjects.numpy2ri as np2r"
   ]
  },
  {
   "cell_type": "code",
   "execution_count": 12,
   "metadata": {},
   "outputs": [],
   "source": [
    "tolerance = importr('tolerance')\n",
    "np2r.activate()"
   ]
  },
  {
   "cell_type": "code",
   "execution_count": 13,
   "metadata": {},
   "outputs": [],
   "source": [
    "def chisquare_test(sample, power=1.16, beta=0.0, skip=0):\n",
    "    unique, counts = np.unique(sample, return_counts=True)\n",
    "    counts[::-1].sort()\n",
    "\n",
    "    frequencies = np.array([1.0 / np.power(i + beta, power) for i in range(1, len(counts) + 1)])\n",
    "    zipf_counts = np.ceil(len(sample) * frequencies / frequencies.sum())\n",
    "\n",
    "    # print(Counter(sample).most_common(10))\n",
    "    # print(counts[:10])\n",
    "    # print(zipf_counts[:10])\n",
    "\n",
    "    chi = chisquare(counts[skip:], zipf_counts[skip:])\n",
    "    # print(chi[0])\n",
    "    return chi[1]"
   ]
  },
  {
   "cell_type": "code",
   "execution_count": 14,
   "metadata": {},
   "outputs": [],
   "source": [
    "def hash_distributed_test(test, sample, paral_size=10):\n",
    "    distributed_sample = defaultdict(list)\n",
    "    for el in sample:\n",
    "        distributed_sample[mmh3.hash(str('qwerty' + el)) % paral_size].append(el)\n",
    "\n",
    "    print('############################')\n",
    "    print('PARTITIONING ', paral_size)\n",
    "    for ds in distributed_sample:\n",
    "        print('PARTITION ', ds)\n",
    "        data = distributed_sample[ds]\n",
    "        data = get_sample(data)\n",
    "        # power, beta = estimate_params(data)\n",
    "        # print(power, beta)\n",
    "        # p_value = test(data, power, beta)\n",
    "\n",
    "        power, beta = estimate_params(data)\n",
    "        print(power, beta)\n",
    "        p_value = test(data, power, beta)\n",
    "\n",
    "        print('P VALUE', p_value)\n",
    "        print('#######')"
   ]
  },
  {
   "cell_type": "code",
   "execution_count": 15,
   "metadata": {},
   "outputs": [],
   "source": [
    "def estimate_params(sample):\n",
    "    unique, counts = np.unique(sample, return_counts=True)\n",
    "    res = tolerance.zm_ll(x=sample, N=len(unique), dist=\"Zipf-Man\")\n",
    "    split = str(res).split('b')[3].strip().split(' ')\n",
    "    s = float(split[0])\n",
    "    beta = float(split[1])\n",
    "    return s, beta"
   ]
  },
  {
   "cell_type": "code",
   "execution_count": 16,
   "metadata": {},
   "outputs": [],
   "source": [
    "def get_sample(words):\n",
    "    word_counts = Counter(words)\n",
    "    sorted_word_counts = sorted(word_counts.items(), key=lambda kv: -kv[1])\n",
    "    sorted_word_counts = dict([(sorted_word_counts[i][0], i + 1) for i in range(len(sorted_word_counts))])\n",
    "    return np.array([sorted_word_counts[word] for word in words])"
   ]
  },
  {
   "cell_type": "markdown",
   "metadata": {},
   "source": [
    "## Test war and peace"
   ]
  },
  {
   "cell_type": "code",
   "execution_count": 17,
   "metadata": {},
   "outputs": [
    {
     "name": "stdout",
     "output_type": "stream",
     "text": [
      "############################\n",
      "PARTITIONING  1\n",
      "PARTITION  0\n",
      "1.17345 3.606634\n",
      "P VALUE 0.9999999999997025\n",
      "#######\n",
      "############################\n",
      "PARTITIONING  2\n",
      "PARTITION  0\n",
      "1.1727379 0.7840889\n",
      "P VALUE 1.0\n",
      "#######\n",
      "PARTITION  1\n",
      "1.248518 5.510748\n",
      "P VALUE 1.0\n",
      "#######\n",
      "############################\n",
      "PARTITIONING  3\n",
      "PARTITION  1\n",
      "1.116659 0.0\n",
      "P VALUE 0.0\n",
      "#######\n",
      "PARTITION  0\n",
      "1.265478 3.930909\n",
      "P VALUE 1.0\n",
      "#######\n",
      "PARTITION  2\n",
      "1.276557 2.419009\n",
      "P VALUE 1.0\n",
      "#######\n",
      "############################\n",
      "PARTITIONING  4\n",
      "PARTITION  2\n",
      "1.261104 0.7889334\n",
      "P VALUE 1.324280386066556e-32\n",
      "#######\n",
      "PARTITION  1\n",
      "1.245314 2.138257\n",
      "P VALUE 1.0\n",
      "#######\n",
      "PARTITION  0\n",
      "1.14273 0.0\n",
      "P VALUE 0.0\n",
      "#######\n",
      "PARTITION  3\n",
      "1.257746 3.059312\n",
      "P VALUE 1.0\n",
      "#######\n"
     ]
    }
   ],
   "source": [
    "file = open('war_and_peace.txt', 'r')\n",
    "text = file.read().lower()\n",
    "words = re.sub('\\W', ' ', text).split()[:500000]\n",
    "\n",
    "tests = {'chi': chisquare_test}\n",
    "paral_sizes = range(1, 5)\n",
    "for name in tests:\n",
    "    for ps in paral_sizes:\n",
    "        hash_distributed_test(tests[name], words, paral_size=ps)"
   ]
  },
  {
   "cell_type": "markdown",
   "metadata": {},
   "source": [
    "## Test lognormal "
   ]
  },
  {
   "cell_type": "code",
   "execution_count": 23,
   "metadata": {},
   "outputs": [
    {
     "name": "stdout",
     "output_type": "stream",
     "text": [
      "1.7165558 0.2584549\n",
      "8.651000404238344e-28\n"
     ]
    }
   ],
   "source": [
    "sample = np.random.lognormal(mean=0.3, sigma=2, size=100000)\n",
    "sample = np.array(sample, dtype=np.int)\n",
    "s, alpha = estimate_params(sample)\n",
    "print(s, alpha)\n",
    "print(chisquare_test(sample, s, alpha))"
   ]
  }
 ],
 "metadata": {
  "kernelspec": {
   "display_name": "Python 3",
   "language": "python",
   "name": "python3"
  },
  "language_info": {
   "codemirror_mode": {
    "name": "ipython",
    "version": 3
   },
   "file_extension": ".py",
   "mimetype": "text/x-python",
   "name": "python",
   "nbconvert_exporter": "python",
   "pygments_lexer": "ipython3",
   "version": "3.6.7"
  }
 },
 "nbformat": 4,
 "nbformat_minor": 2
}
