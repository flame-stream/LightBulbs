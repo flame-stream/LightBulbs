{
 "cells": [
  {
   "cell_type": "code",
   "execution_count": 1,
   "metadata": {},
   "outputs": [],
   "source": [
    "import warnings\n",
    "from collections import defaultdict\n",
    "\n",
    "import matplotlib.pyplot as plt\n",
    "import numpy as np\n",
    "import pandas as pd\n",
    "from scipy.stats import chisquare, expon, lognorm, norm, poisson, zipf\n",
    "\n",
    "warnings.filterwarnings('ignore')"
   ]
  },
  {
   "cell_type": "code",
   "execution_count": 2,
   "metadata": {},
   "outputs": [],
   "source": [
    "def simple_parameter_estimation(x):\n",
    "    return 1 + len(x) / sum(np.log(x))"
   ]
  },
  {
   "cell_type": "code",
   "execution_count": 3,
   "metadata": {},
   "outputs": [
    {
     "name": "stdout",
     "output_type": "stream",
     "text": [
      "s = 1.01...1.1, mean error = 0.018254602158150647\n",
      "s = 1.11...1.2, mean error = 0.016314789972882892\n",
      "s = 1.21...1.3, mean error = 0.03553980906907037\n",
      "s = 1.31...1.4, mean error = 0.07853892271321723\n",
      "s = 1.41...1.5, mean error = 0.1422219191837478\n",
      "s = 1.51...1.6, mean error = 0.22854643245153633\n",
      "s = 1.61...1.7, mean error = 0.29867102801364764\n",
      "s = 1.71...1.8, mean error = 0.40907122396519624\n",
      "s = 1.81...1.9, mean error = 0.5086293710940166\n",
      "s = 1.91...2.0, mean error = 0.7249177821457721\n"
     ]
    }
   ],
   "source": [
    "params = np.linspace(1.01, 2.0, 100) \\\n",
    "           .reshape((10, 10))\n",
    "\n",
    "for interval in params:\n",
    "    error = 0\n",
    "    for s in interval:\n",
    "        sample = zipf.rvs(s, size=1000)\n",
    "        s_hat = simple_parameter_estimation(sample)\n",
    "        error += abs(s_hat - s)\n",
    "    print(f's = {(s - 0.09):.3}...{s:.2}, mean error = {error / 10}')"
   ]
  },
  {
   "cell_type": "code",
   "execution_count": 4,
   "metadata": {},
   "outputs": [],
   "source": [
    "def chisquare_test(sample):\n",
    "    s_hat = simple_parameter_estimation(sample)\n",
    "    if (s_hat < 1.1):\n",
    "        s_hat = 1.1\n",
    "    unique, counts = np.unique(np.ceil(sample).astype(int), return_counts=True)\n",
    "    counts[::-1].sort()\n",
    "    return chisquare(counts, np.ceil(len(sample) * \n",
    "                                     zipf.pmf([i for i in range(1, len(counts) + 1)], s_hat)))[1]\n",
    "\n",
    "\n",
    "def add_noise(sample, level, distrib, args):\n",
    "    rand_values = np.random.rand(len(sample))\n",
    "    for i in range(len(sample)):\n",
    "        if rand_values[i] < level:\n",
    "            sample[i] = distrib.rvs(*args)\n",
    "\n",
    "\n",
    "tests = {'chi': chisquare_test}"
   ]
  },
  {
   "cell_type": "code",
   "execution_count": 5,
   "metadata": {},
   "outputs": [],
   "source": [
    "pvalues_n = defaultdict(list)\n",
    "sample_sizes = [i * 100000 for i in range(1, 10)]\n",
    "s = 1.1\n",
    "for n in sample_sizes:\n",
    "    sample = zipf.rvs(s, size=n)\n",
    "    for name in tests:\n",
    "        pvalues_n[name].append(tests[name](sample))"
   ]
  },
  {
   "cell_type": "code",
   "execution_count": 6,
   "metadata": {},
   "outputs": [
    {
     "data": {
      "image/png": "[encoded data removed]",
      "text/plain": [
       "<Figure size 432x288 with 1 Axes>"
      ]
     },
     "metadata": {
      "needs_background": "light"
     },
     "output_type": "display_data"
    }
   ],
   "source": [
    "for name in tests:\n",
    "    plt.plot(sample_sizes, pvalues_n[name], label=name)\n",
    "plt.xlabel('sample_size')\n",
    "plt.ylabel('p-value')\n",
    "plt.legend(bbox_to_anchor=(1.05, 1), loc=2, borderaxespad=0.)\n",
    "plt.show()"
   ]
  },
  {
   "cell_type": "code",
   "execution_count": 7,
   "metadata": {},
   "outputs": [],
   "source": [
    "pvalues_l = defaultdict(list)\n",
    "noise_levels = [i / 100 for i in range(50)]\n",
    "s = 1.1\n",
    "n = 10000\n",
    "for level in noise_levels:\n",
    "    sample = zipf.rvs(s, size=n)\n",
    "    add_noise(sample, level, lognorm, [1])\n",
    "    for name in tests:\n",
    "        pvalues_l[name].append(tests[name](sample))"
   ]
  },
  {
   "cell_type": "code",
   "execution_count": 8,
   "metadata": {},
   "outputs": [
    {
     "data": {
      "image/png": "[encoded data removed]",
      "text/plain": [
       "<Figure size 432x288 with 1 Axes>"
      ]
     },
     "metadata": {
      "needs_background": "light"
     },
     "output_type": "display_data"
    }
   ],
   "source": [
    "for name in tests:\n",
    "    plt.plot(noise_levels, pvalues_l[name], label=name)\n",
    "plt.xlabel('noise_level')\n",
    "plt.ylabel('p-value')\n",
    "plt.legend(bbox_to_anchor=(1.05, 1), loc=2, borderaxespad=0.)\n",
    "plt.show()"
   ]
  },
  {
   "cell_type": "code",
   "execution_count": 9,
   "metadata": {},
   "outputs": [],
   "source": [
    "def get_false_positive(test, N=1000, s=1.1, sample_size=1000):\n",
    "    false_positive = 0\n",
    "    for i in range(N):\n",
    "        sample = zipf.rvs(s, size=sample_size)\n",
    "        if test(sample) <= 0.05:\n",
    "            false_positive += 1\n",
    "    return false_positive / N\n",
    "\n",
    "\n",
    "def get_true_negative(test, N=1000, sample_size=1000, distrib=lognorm, args=[1]):\n",
    "    true_negative = 0\n",
    "    for i in range(N):\n",
    "        sample = distrib.rvs(*args, size=sample_size)\n",
    "        if test(sample) > 0.05:\n",
    "            true_negative += 1\n",
    "    return true_negative / N"
   ]
  },
  {
   "cell_type": "code",
   "execution_count": 10,
   "metadata": {},
   "outputs": [
    {
     "name": "stdout",
     "output_type": "stream",
     "text": [
      "false_positive\n",
      "s = 1.1\n",
      "  chi 0.0\n",
      "s = 1.2000000000000002\n",
      "  chi 0.0\n",
      "s = 1.3\n",
      "  chi 0.0\n",
      "s = 1.4000000000000001\n",
      "  chi 0.0\n",
      "s = 1.5\n",
      "  chi 0.0\n",
      "s = 1.6\n",
      "  chi 0.004\n",
      "s = 1.7000000000000002\n",
      "  chi 0.316\n",
      "s = 1.8\n",
      "  chi 0.955\n",
      "s = 1.9\n",
      "  chi 1.0\n",
      "s = 2.0\n",
      "  chi 1.0\n"
     ]
    }
   ],
   "source": [
    "print('false_positive')\n",
    "for s in np.linspace(1.1, 2.0, num=10):\n",
    "    for name in tests:\n",
    "        print('s =', s)\n",
    "        print(' ', name, get_false_positive(tests[name], s=s))"
   ]
  },
  {
   "cell_type": "code",
   "execution_count": 11,
   "metadata": {},
   "outputs": [
    {
     "name": "stdout",
     "output_type": "stream",
     "text": [
      "true_negative\n",
      "lognorm\n",
      "  chi 0.144\n",
      "poisson\n",
      "  chi 0.0\n",
      "expon\n",
      "  chi 0.0\n"
     ]
    }
   ],
   "source": [
    "distribs = [('lognorm', lognorm, [10]),\n",
    "            ('poisson', poisson, [1]),\n",
    "            ('expon', expon, []), ]\n",
    "\n",
    "print('true_negative')\n",
    "for dist_name, dist, args in distribs:\n",
    "    print(dist_name)\n",
    "    for name in tests:\n",
    "        print(' ', name, get_true_negative(\n",
    "            tests[name], distrib=dist, args=args))"
   ]
  },
  {
   "cell_type": "code",
   "execution_count": 12,
   "metadata": {},
   "outputs": [
    {
     "data": {
      "image/png": "[encoded data removed]",
      "text/plain": [
       "<Figure size 432x288 with 1 Axes>"
      ]
     },
     "metadata": {
      "needs_background": "light"
     },
     "output_type": "display_data"
    }
   ],
   "source": [
    "tn = []\n",
    "for i in np.linspace(10, 100, 10):\n",
    "    tn.append(get_true_negative(tests[name], distrib=lognorm, args=[i]))\n",
    "\n",
    "for name in tests:\n",
    "    plt.plot(np.linspace(10, 100, 10), tn, label=name)\n",
    "plt.xlabel('')\n",
    "plt.ylabel('true_negative')\n",
    "plt.legend(bbox_to_anchor=(1.05, 1), loc=2, borderaxespad=0.)\n",
    "plt.show()"
   ]
  }
 ],
 "metadata": {
  "hide_input": false,
  "kernelspec": {
   "display_name": "Python 3",
   "language": "python",
   "name": "python3"
  },
  "language_info": {
   "codemirror_mode": {
    "name": "ipython",
    "version": 3
   },
   "file_extension": ".py",
   "mimetype": "text/x-python",
   "name": "python",
   "nbconvert_exporter": "python",
   "pygments_lexer": "ipython3",
   "version": "3.7.1"
  },
  "varInspector": {
   "cols": {
    "lenName": 16,
    "lenType": 16,
    "lenVar": 40
   },
   "kernels_config": {
    "python": {
     "delete_cmd_postfix": "",
     "delete_cmd_prefix": "del ",
     "library": "var_list.py",
     "varRefreshCmd": "print(var_dic_list())"
    },
    "r": {
     "delete_cmd_postfix": ") ",
     "delete_cmd_prefix": "rm(",
     "library": "var_list.r",
     "varRefreshCmd": "cat(var_dic_list()) "
    }
   },
   "types_to_exclude": [
    "module",
    "function",
    "builtin_function_or_method",
    "instance",
    "_Feature"
   ],
   "window_display": false
  }
 },
 "nbformat": 4,
 "nbformat_minor": 2
}
