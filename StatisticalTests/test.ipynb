{
 "cells": [
  {
   "cell_type": "code",
   "execution_count": 1,
   "metadata": {},
   "outputs": [],
   "source": [
    "import pandas as pd\n",
    "import numpy as np\n",
    "from scipy.stats import zipf, norm, lognorm, poisson, expon\n",
    "from scipy.stats import chisquare\n",
    "import matplotlib.pyplot as plt\n",
    "\n",
    "import warnings\n",
    "warnings.filterwarnings('ignore')"
   ]
  },
  {
   "cell_type": "code",
   "execution_count": 2,
   "metadata": {},
   "outputs": [],
   "source": [
    "def simple_parameter_estimation(x):\n",
    "    return 1 + len(x) / sum(np.log(x))\n"
   ]
  },
  {
   "cell_type": "code",
   "execution_count": 3,
   "metadata": {},
   "outputs": [
    {
     "name": "stdout",
     "output_type": "stream",
     "text": [
      "s = 1.0 .. 1.1 error = 0.018982871506377806\n",
      "s = 1.1 .. 1.2 error = 0.015452001774085322\n",
      "s = 1.2 .. 1.3 error = 0.040308386850302004\n",
      "s = 1.3 .. 1.4 error = 0.08994615964437988\n",
      "s = 1.4 .. 1.5 error = 0.15439126001492184\n",
      "s = 1.5 .. 1.6 error = 0.207059161896528\n",
      "s = 1.6 .. 1.7 error = 0.30540978362606425\n",
      "s = 1.7 .. 1.8 error = 0.41605076837975774\n",
      "s = 1.8 .. 1.9 error = 0.4949935980534059\n",
      "s = 1.9 .. 2.0 error = 0.6696928608054851\n"
     ]
    }
   ],
   "source": [
    "for i in range(0, 10):\n",
    "    error = 0\n",
    "    for j in range(1, 11):\n",
    "        s = 1 + (i * 10 + j) / 100;\n",
    "        sample = zipf.rvs(s, size=1000)\n",
    "        s_hat = simple_parameter_estimation(sample)\n",
    "        error += np.abs(s_hat - s)\n",
    "    print('s =', 1 + i * 10 / 100, '..', 1 + (i + 1) * 10 / 100, 'error =', error / 10)\n"
   ]
  },
  {
   "cell_type": "code",
   "execution_count": 4,
   "metadata": {},
   "outputs": [],
   "source": [
    "def chisquare_test(sample):\n",
    "    s_hat = simple_parameter_estimation(sample)\n",
    "    if (s_hat < 1.1):\n",
    "        s_hat = 1.1\n",
    "    unique, counts = np.unique(np.ceil(sample).astype(int), return_counts=True)\n",
    "    counts[::-1].sort()\n",
    "    return chisquare(counts, np.ceil(len(sample) * zipf.pmf([i for i in range(1, len(counts) + 1)], s_hat)))[1]\n",
    "\n",
    "tests = {'chi': chisquare_test}\n"
   ]
  },
  {
   "cell_type": "code",
   "execution_count": 5,
   "metadata": {},
   "outputs": [],
   "source": [
    "def add_noise(sample, level, distrib, args):\n",
    "    rand_values = np.random.rand(len(sample))\n",
    "    for i in range(len(sample)):\n",
    "        if rand_values[i] < level:\n",
    "            sample[i] = distrib.rvs(*args)\n"
   ]
  },
  {
   "cell_type": "code",
   "execution_count": 6,
   "metadata": {},
   "outputs": [],
   "source": [
    "pvalues_n = dict([(test, []) for test in tests])\n",
    "sample_sizes = [i * 100000 for i in range(1, 10)]\n",
    "s = 1.1\n",
    "for n in sample_sizes:\n",
    "    sample = zipf.rvs(s, size=n)\n",
    "    for name in tests:\n",
    "        pvalues_n[name].append(tests[name](sample))\n"
   ]
  },
  {
   "cell_type": "code",
   "execution_count": 7,
   "metadata": {},
   "outputs": [
    {
     "data": {
      "text/plain": [
       "<function matplotlib.pyplot.show(*args, **kw)>"
      ]
     },
     "execution_count": 7,
     "metadata": {},
     "output_type": "execute_result"
    },
    {
     "data": {
      "image/png": "[encoded data removed]",
      "text/plain": [
       "<Figure size 432x288 with 1 Axes>"
      ]
     },
     "metadata": {
      "needs_background": "light"
     },
     "output_type": "display_data"
    }
   ],
   "source": [
    "for name in tests:\n",
    "    plt.plot(sample_sizes, pvalues_n[name], label=name)\n",
    "plt.xlabel('sample_size')\n",
    "plt.ylabel('p-value')\n",
    "plt.legend(bbox_to_anchor=(1.05, 1), loc=2, borderaxespad=0.)\n",
    "plt.show\n"
   ]
  },
  {
   "cell_type": "code",
   "execution_count": 8,
   "metadata": {},
   "outputs": [],
   "source": [
    "pvalues_l = dict([(test, []) for test in tests])\n",
    "noise_levels = [i / 100 for i in range(50)]\n",
    "s = 1.1\n",
    "n = 10000\n",
    "for level in noise_levels:\n",
    "    sample = zipf.rvs(s, size=n)\n",
    "    add_noise(sample, level, lognorm, [1])\n",
    "    for name in tests:\n",
    "        pvalues_l[name].append(tests[name](sample))\n"
   ]
  },
  {
   "cell_type": "code",
   "execution_count": 9,
   "metadata": {},
   "outputs": [
    {
     "data": {
      "text/plain": [
       "<function matplotlib.pyplot.show(*args, **kw)>"
      ]
     },
     "execution_count": 9,
     "metadata": {},
     "output_type": "execute_result"
    },
    {
     "data": {
      "image/png": "[encoded data removed]",
      "text/plain": [
       "<Figure size 432x288 with 1 Axes>"
      ]
     },
     "metadata": {
      "needs_background": "light"
     },
     "output_type": "display_data"
    }
   ],
   "source": [
    "for name in tests:\n",
    "    plt.plot(noise_levels, pvalues_l[name], label=name)\n",
    "plt.xlabel('noise_level')\n",
    "plt.ylabel('p-value')\n",
    "plt.legend(bbox_to_anchor=(1.05, 1), loc=2, borderaxespad=0.)\n",
    "plt.show\n"
   ]
  },
  {
   "cell_type": "code",
   "execution_count": 10,
   "metadata": {},
   "outputs": [],
   "source": [
    "def get_false_positive(test, N=1000, s=1.1, sample_size=1000):\n",
    "    false_positive = 0;\n",
    "    for i in range(N):\n",
    "        sample = zipf.rvs(s, size=sample_size)\n",
    "        if test(sample) <= 0.05:\n",
    "            false_positive += 1\n",
    "    return false_positive / N\n",
    "\n",
    "def get_true_negative(test, N=1000, sample_size=1000, distrib=lognorm, args=[1]):\n",
    "    true_negative = 0;\n",
    "    for i in range(N):\n",
    "        sample = distrib.rvs(*args, size=sample_size)\n",
    "        if test(sample) > 0.05:\n",
    "            true_negative += 1\n",
    "    return true_negative / N\n"
   ]
  },
  {
   "cell_type": "code",
   "execution_count": 11,
   "metadata": {},
   "outputs": [
    {
     "name": "stdout",
     "output_type": "stream",
     "text": [
      "false_positive\n",
      "s = 1.1\n",
      "  chi 0.0\n",
      "s = 1.2000000000000002\n",
      "  chi 0.0\n",
      "s = 1.3\n",
      "  chi 0.0\n",
      "s = 1.4000000000000001\n",
      "  chi 0.0\n",
      "s = 1.5\n",
      "  chi 0.0\n",
      "s = 1.6\n",
      "  chi 0.003\n",
      "s = 1.7000000000000002\n",
      "  chi 0.327\n",
      "s = 1.8\n",
      "  chi 0.97\n",
      "s = 1.9\n",
      "  chi 1.0\n",
      "s = 2.0\n",
      "  chi 1.0\n"
     ]
    }
   ],
   "source": [
    "print('false_positive')\n",
    "for s in np.linspace(1.1, 2.0, num=10):\n",
    "    for name in tests:\n",
    "        print('s =', s)\n",
    "        print(' ', name, get_false_positive(tests[name], s=s))\n"
   ]
  },
  {
   "cell_type": "code",
   "execution_count": 12,
   "metadata": {},
   "outputs": [
    {
     "name": "stdout",
     "output_type": "stream",
     "text": [
      "true_negative\n",
      "lognorm\n",
      "  chi 0.111\n",
      "poisson\n",
      "  chi 0.0\n",
      "expon\n",
      "  chi 0.0\n"
     ]
    }
   ],
   "source": [
    "distribs = [('lognorm', lognorm, [10]),\n",
    "            ('poisson', poisson, [1]),\n",
    "            ('expon', expon, []), ]\n",
    "\n",
    "print('true_negative')\n",
    "for dist_name, dist, args in distribs:\n",
    "    print(dist_name)\n",
    "    for name in tests:\n",
    "        print(' ', name, get_true_negative(tests[name], distrib=dist, args=args))\n"
   ]
  },
  {
   "cell_type": "code",
   "execution_count": 13,
   "metadata": {},
   "outputs": [
    {
     "data": {
      "text/plain": [
       "<function matplotlib.pyplot.show(*args, **kw)>"
      ]
     },
     "execution_count": 13,
     "metadata": {},
     "output_type": "execute_result"
    },
    {
     "data": {
      "image/png": "[encoded data removed]",
      "text/plain": [
       "<Figure size 432x288 with 1 Axes>"
      ]
     },
     "metadata": {
      "needs_background": "light"
     },
     "output_type": "display_data"
    }
   ],
   "source": [
    "tn = []\n",
    "for i in np.linspace(10, 100, 10):\n",
    "    tn.append(get_true_negative(tests[name], distrib=lognorm, args=[i]))\n",
    "\n",
    "for name in tests:\n",
    "    plt.plot(np.linspace(10, 100, 10), tn, label=name)\n",
    "plt.xlabel('')\n",
    "plt.ylabel('true_negative')\n",
    "plt.legend(bbox_to_anchor=(1.05, 1), loc=2, borderaxespad=0.)\n",
    "plt.show\n"
   ]
  },
  {
   "cell_type": "code",
   "execution_count": null,
   "metadata": {},
   "outputs": [],
   "source": []
  }
 ],
 "metadata": {
  "kernelspec": {
   "display_name": "Python 3",
   "language": "python",
   "name": "python3"
  },
  "language_info": {
   "codemirror_mode": {
    "name": "ipython",
    "version": 3
   },
   "file_extension": ".py",
   "mimetype": "text/x-python",
   "name": "python",
   "nbconvert_exporter": "python",
   "pygments_lexer": "ipython3",
   "version": "3.7.0"
  }
 },
 "nbformat": 4,
 "nbformat_minor": 2
}
