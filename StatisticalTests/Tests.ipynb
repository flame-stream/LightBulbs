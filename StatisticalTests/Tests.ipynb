{
 "cells": [
  {
   "cell_type": "code",
   "execution_count": 1,
   "metadata": {},
   "outputs": [],
   "source": [
    "import warnings\n",
    "from collections import defaultdict\n",
    "\n",
    "import matplotlib.pyplot as plt\n",
    "import numpy as np\n",
    "import pandas as pd\n",
    "from scipy.stats import chisquare, expon, lognorm, norm, poisson, zipf, ks_2samp\n",
    "import re\n",
    "from collections import Counter, OrderedDict\n",
    "import mmh3\n",
    "\n",
    "warnings.filterwarnings('ignore')\n"
   ]
  },
  {
   "cell_type": "code",
   "execution_count": 2,
   "metadata": {},
   "outputs": [],
   "source": [
    "def chisquare_test(sample, power=1.16, beta=3):\n",
    "    unique, counts = np.unique(sample, return_counts=True)\n",
    "    counts[::-1].sort()\n",
    "\n",
    "    frequencies = np.array([1.0 / np.power(i + beta, power) for i in range(1, len(counts) + 1)])\n",
    "    zipf_counts = np.ceil(len(sample) * frequencies / frequencies.sum())\n",
    "\n",
    "    return chisquare(counts, zipf_counts)[1]\n",
    "\n",
    "def ks2_test(sample, power=1.16, beta=3):\n",
    "    unique, counts = np.unique(np.ceil(sample).astype(int), return_counts=True)\n",
    "    counts[::-1].sort()\n",
    "\n",
    "    frequencies = np.array([1.0 / np.power(i + beta, power) for i in range(1, len(counts) + 1)])\n",
    "    zipf_counts = np.ceil(len(sample) * frequencies / frequencies.sum()).astype(int)\n",
    "\n",
    "    zipf_sample = []\n",
    "    for i in range(len(counts)):\n",
    "        zipf_sample.extend([i + 1 for j in range(zipf_counts[i])])\n",
    "\n",
    "    return ks_2samp(sample, zipf_sample)[1]\n",
    "\n",
    "tests = {'chi': chisquare_test}\n",
    "#'ks2': ks2_test}\n"
   ]
  },
  {
   "cell_type": "code",
   "execution_count": 3,
   "metadata": {},
   "outputs": [],
   "source": [
    "def add_noise(sample, level, distrib, args):\n",
    "    rand_values = np.random.rand(len(sample))\n",
    "    for i in range(len(sample)):\n",
    "        if rand_values[i] < level:\n",
    "            sample[i] = distrib.rvs(*args)\n"
   ]
  },
  {
   "cell_type": "code",
   "execution_count": 4,
   "metadata": {},
   "outputs": [],
   "source": [
    "file = open('war_and_peace.txt', 'r')\n",
    "text = file.read().lower()\n",
    "words = re.sub('\\W', ' ', text).split()[:500000]\n"
   ]
  },
  {
   "cell_type": "code",
   "execution_count": 5,
   "metadata": {},
   "outputs": [],
   "source": [
    "def get_sample(words):\n",
    "    word_counts = Counter(words)\n",
    "    sorted_word_counts = sorted(word_counts.items(), key=lambda kv: -kv[1])\n",
    "    sorted_word_counts = dict([(sorted_word_counts[i][0], i + 1) for i in range(len(sorted_word_counts))])\n",
    "    return np.array([sorted_word_counts[word] for word in words])\n"
   ]
  },
  {
   "cell_type": "code",
   "execution_count": 6,
   "metadata": {},
   "outputs": [],
   "source": [
    "def coordinate_descent(f, parameters):\n",
    "    params = parameters.copy()\n",
    "    step = 0.01\n",
    "\n",
    "    p = True\n",
    "    while (p):\n",
    "        p = False\n",
    "        for i in range(len(params)):\n",
    "            while (True):\n",
    "                back_params = params.copy()\n",
    "                back_params[i] -= step\n",
    "\n",
    "                forward_params = params.copy()\n",
    "                forward_params[i] += step\n",
    "\n",
    "                next_step = np.argmin(np.array([f(back_params), f(params), f(forward_params)]))\n",
    "\n",
    "                if next_step == 0:\n",
    "                    params[i] = back_params[i]\n",
    "                    p = True\n",
    "                elif next_step == 2:\n",
    "                    params[i] = forward_params[i]\n",
    "                    p = True\n",
    "                else:\n",
    "                    break\n",
    "    return params\n"
   ]
  },
  {
   "cell_type": "code",
   "execution_count": 7,
   "metadata": {},
   "outputs": [],
   "source": [
    "def parameter_estimation(sample, params):\n",
    "    unique, counts = np.unique(sample, return_counts=True)\n",
    "    counts[::-1].sort()\n",
    "\n",
    "    def f(params):\n",
    "        power, beta = params\n",
    "        frequencies = np.array([1.0 / np.power(i + beta, power) for i in range(1, len(counts) + 1)])\n",
    "        zipf_counts = np.ceil(len(sample) * frequencies / frequencies.sum())\n",
    "        # return sum(np.abs(counts-zipf_counts))\n",
    "        return chisquare(counts, zipf_counts)[0]\n",
    "\n",
    "    return coordinate_descent(f, params)\n"
   ]
  },
  {
   "cell_type": "markdown",
   "metadata": {},
   "source": [
    "# Baseline"
   ]
  },
  {
   "cell_type": "code",
   "execution_count": 8,
   "metadata": {},
   "outputs": [],
   "source": [
    "pvalues_n = defaultdict(list)\n",
    "sample_sizes = [i * 10000 for i in range(1, 51)]\n",
    "\n",
    "for n in sample_sizes:\n",
    "    sample = get_sample(words[:n])\n",
    "    for name in tests:\n",
    "        pvalues_n[name].append(tests[name](sample))\n"
   ]
  },
  {
   "cell_type": "code",
   "execution_count": 9,
   "metadata": {},
   "outputs": [
    {
     "data": {
      "image/png": "[encoded data removed]",
      "text/plain": [
       "<Figure size 432x288 with 1 Axes>"
      ]
     },
     "metadata": {
      "needs_background": "light"
     },
     "output_type": "display_data"
    }
   ],
   "source": [
    "plt.ylim(-0.1, 1.1)\n",
    "for name in tests:\n",
    "    plt.plot(sample_sizes, pvalues_n[name], label=name)\n",
    "\n",
    "plt.xlabel('sample_size')\n",
    "plt.ylabel('p-value')\n",
    "plt.legend(bbox_to_anchor=(1.05, 1), loc=2, borderaxespad=0.)\n",
    "plt.show()\n"
   ]
  },
  {
   "cell_type": "code",
   "execution_count": 10,
   "metadata": {},
   "outputs": [],
   "source": [
    "pvalues_l = defaultdict(list)\n",
    "num_blocks = 50\n",
    "num_noise_levels = 30\n",
    "\n",
    "noise_levels = np.linspace(0, num_noise_levels / 100, num=num_noise_levels + 1)\n",
    "for name in tests:\n",
    "    pvalues_l[name] = np.zeros(len(noise_levels))\n",
    "word_blocks = np.split(np.array(words), num_blocks)\n",
    "\n",
    "for k in range(num_blocks):\n",
    "    orig_sample = get_sample(word_blocks[k])\n",
    "    for i in range(num_noise_levels):\n",
    "        sample = orig_sample.copy()\n",
    "        add_noise(sample, noise_levels[i], lognorm, [1])\n",
    "        for name in tests:\n",
    "            pvalues_l[name][i] += tests[name](sample)\n",
    "\n",
    "for name in tests:\n",
    "    pvalues_l[name] /= num_blocks\n"
   ]
  },
  {
   "cell_type": "code",
   "execution_count": 11,
   "metadata": {},
   "outputs": [
    {
     "data": {
      "image/png": "[encoded data removed]",
      "text/plain": [
       "<Figure size 432x288 with 1 Axes>"
      ]
     },
     "metadata": {
      "needs_background": "light"
     },
     "output_type": "display_data"
    }
   ],
   "source": [
    "for name in tests:\n",
    "    plt.plot(noise_levels, pvalues_l[name], label=name)\n",
    "plt.xlabel('noise_level')\n",
    "plt.ylabel('p-value')\n",
    "plt.legend(bbox_to_anchor=(1.05, 1), loc=2, borderaxespad=0.)\n",
    "plt.show()\n"
   ]
  },
  {
   "cell_type": "code",
   "execution_count": 12,
   "metadata": {},
   "outputs": [],
   "source": [
    "# type I errors\n",
    "def get_false_positive(test, words, N=100):\n",
    "    false_positive = 0;\n",
    "    word_blocks = np.split(np.array(words), N)\n",
    "    for i in range(N):\n",
    "        sample = get_sample(word_blocks[i])\n",
    "        if test(sample) <= 0.05:\n",
    "            false_positive += 1\n",
    "    return false_positive / N\n",
    "\n",
    "# type II errors\n",
    "def get_false_negative(test, N=1000, sample_size=1000, distrib=lognorm, args=[10]):\n",
    "    true_negative = 0;\n",
    "    for i in range(N):\n",
    "        sample = np.ceil(distrib.rvs(*args, size=sample_size))\n",
    "        if test(sample) > 0.05:\n",
    "            true_negative += 1\n",
    "    return true_negative / N\n"
   ]
  },
  {
   "cell_type": "code",
   "execution_count": 13,
   "metadata": {},
   "outputs": [
    {
     "name": "stdout",
     "output_type": "stream",
     "text": [
      "false_positive\n",
      "chi 0.0\n"
     ]
    }
   ],
   "source": [
    "print('false_positive')\n",
    "for name in tests:\n",
    "    print(name, get_false_positive(tests[name], words))\n"
   ]
  },
  {
   "cell_type": "code",
   "execution_count": 14,
   "metadata": {},
   "outputs": [
    {
     "name": "stdout",
     "output_type": "stream",
     "text": [
      "false_negative\n",
      "chi 0.023\n"
     ]
    }
   ],
   "source": [
    "print('false_negative')\n",
    "for name in tests:\n",
    "    print(name, get_false_negative(tests[name], distrib=lognorm, args=[0.2]))\n"
   ]
  },
  {
   "cell_type": "markdown",
   "metadata": {},
   "source": [
    "# Distributed"
   ]
  },
  {
   "cell_type": "markdown",
   "metadata": {},
   "source": [
    "## Hash"
   ]
  },
  {
   "cell_type": "code",
   "execution_count": 15,
   "metadata": {},
   "outputs": [],
   "source": [
    "def hash_distributed_test(test, sample, paral_size=10):\n",
    "    distributed_sample = defaultdict(list)\n",
    "    for el in sample:\n",
    "        distributed_sample[mmh3.hash(str(el)) % paral_size].append(el)\n",
    "\n",
    "    params = [1.16, 3]\n",
    "    pvalues = []\n",
    "    for ds in distributed_sample:\n",
    "        power, beta = parameter_estimation(distributed_sample[ds], params)\n",
    "        pvalues.append(test(get_sample(distributed_sample[ds]), power, beta))\n",
    "\n",
    "    return pvalues\n"
   ]
  },
  {
   "cell_type": "code",
   "execution_count": 16,
   "metadata": {},
   "outputs": [],
   "source": [
    "paral_sizes = range(1, 5)\n",
    "pvalues = defaultdict(list)\n",
    "sample = get_sample(words)\n",
    "for name in tests:\n",
    "    for ps in paral_sizes:\n",
    "        loc_pvalues = hash_distributed_test(tests[name], sample, paral_size=ps)\n",
    "        pvalues[name].append(sum(loc_pvalues) / ps)\n"
   ]
  },
  {
   "cell_type": "code",
   "execution_count": 17,
   "metadata": {},
   "outputs": [
    {
     "data": {
      "image/png": "[encoded data removed]",
      "text/plain": [
       "<Figure size 432x288 with 1 Axes>"
      ]
     },
     "metadata": {
      "needs_background": "light"
     },
     "output_type": "display_data"
    }
   ],
   "source": [
    "plt.ylim(-0.1, 1.1)\n",
    "for name in tests:\n",
    "    plt.plot(paral_sizes, pvalues[name], label=name)\n",
    "plt.xlabel('paral_size')\n",
    "plt.ylabel('p-value')\n",
    "plt.legend(bbox_to_anchor=(1.05, 1), loc=2, borderaxespad=0.)\n",
    "plt.show()\n"
   ]
  },
  {
   "cell_type": "markdown",
   "metadata": {},
   "source": [
    "## Round-robin"
   ]
  },
  {
   "cell_type": "code",
   "execution_count": 18,
   "metadata": {},
   "outputs": [],
   "source": [
    "def round_distributed_test(test, sample, paral_size=10):\n",
    "    distributed_sample = defaultdict(list)\n",
    "    for i in range(len(sample)):\n",
    "        distributed_sample[i % paral_size].append(sample[i])\n",
    "\n",
    "    params = [1.16, 3]\n",
    "    pvalues = []\n",
    "    for ds in distributed_sample:\n",
    "        power, beta = parameter_estimation(distributed_sample[ds], params)\n",
    "        pvalues.append(test(get_sample(distributed_sample[ds]), power, beta))\n",
    "\n",
    "    return pvalues\n"
   ]
  },
  {
   "cell_type": "code",
   "execution_count": 19,
   "metadata": {},
   "outputs": [],
   "source": [
    "paral_sizes = range(1, 5)\n",
    "pvalues = defaultdict(list)\n",
    "sample = get_sample(words)\n",
    "\n",
    "for name in tests:\n",
    "    for ps in paral_sizes:\n",
    "        loc_pvalues = round_distributed_test(tests[name], sample, paral_size=ps)\n",
    "        pvalues[name].append(sum(loc_pvalues) / ps)\n"
   ]
  },
  {
   "cell_type": "code",
   "execution_count": 21,
   "metadata": {},
   "outputs": [
    {
     "data": {
      "image/png": "[encoded data removed]",
      "text/plain": [
       "<Figure size 432x288 with 1 Axes>"
      ]
     },
     "metadata": {
      "needs_background": "light"
     },
     "output_type": "display_data"
    }
   ],
   "source": [
    "plt.ylim(-0.1, 1.1)\n",
    "for name in tests:\n",
    "    plt.plot(paral_sizes, pvalues[name], label=name)\n",
    "plt.xlabel('paral_size')\n",
    "plt.ylabel('p-value')\n",
    "plt.legend(bbox_to_anchor=(1.05, 1), loc=2, borderaxespad=0.)\n",
    "plt.show()\n"
   ]
  },
  {
   "cell_type": "markdown",
   "metadata": {},
   "source": [
    "## Strange behavior"
   ]
  },
  {
   "cell_type": "code",
   "execution_count": 31,
   "metadata": {},
   "outputs": [
    {
     "data": {
      "text/plain": [
       "(2.6299999999999875, 0.8999999999999999)"
      ]
     },
     "execution_count": 31,
     "metadata": {},
     "output_type": "execute_result"
    }
   ],
   "source": [
    "true_param = 2\n",
    "sample = np.random.zipf(true_param, 10000)\n",
    "power, beta = parameter_estimation(sample, [1, 1])\n",
    "power, beta"
   ]
  },
  {
   "cell_type": "code",
   "execution_count": 32,
   "metadata": {},
   "outputs": [
    {
     "data": {
      "text/plain": [
       "5.573782578332469e-10"
      ]
     },
     "execution_count": 32,
     "metadata": {},
     "output_type": "execute_result"
    }
   ],
   "source": [
    "chisquare_test(sample, power, beta)"
   ]
  }
 ],
 "metadata": {
  "kernelspec": {
   "display_name": "Python 3",
   "language": "python",
   "name": "python3"
  },
  "language_info": {
   "codemirror_mode": {
    "name": "ipython",
    "version": 3
   },
   "file_extension": ".py",
   "mimetype": "text/x-python",
   "name": "python",
   "nbconvert_exporter": "python",
   "pygments_lexer": "ipython3",
   "version": "3.6.7"
  }
 },
 "nbformat": 4,
 "nbformat_minor": 2
}
