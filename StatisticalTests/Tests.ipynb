{
 "cells": [
  {
   "cell_type": "code",
   "execution_count": 1,
   "metadata": {},
   "outputs": [],
   "source": [
    "import warnings\n",
    "from collections import defaultdict\n",
    "\n",
    "import matplotlib.pyplot as plt\n",
    "import numpy as np\n",
    "import pandas as pd\n",
    "from scipy.stats import chisquare, expon, lognorm, norm, poisson, zipf, ks_2samp\n",
    "import re\n",
    "from collections import Counter, OrderedDict\n",
    "\n",
    "warnings.filterwarnings('ignore')\n"
   ]
  },
  {
   "cell_type": "code",
   "execution_count": 2,
   "metadata": {},
   "outputs": [],
   "source": [
    "def chisquare_test(sample, power=1.16, beta=3):\n",
    "    unique, counts = np.unique(np.ceil(sample).astype(int), return_counts=True)\n",
    "    counts[::-1].sort()\n",
    "\n",
    "    frequencies = np.array([1.0 / np.power(i + beta, power) for i in range(1, len(counts) + 1)])\n",
    "    zipf_counts = np.ceil(len(sample) * frequencies / frequencies.sum())\n",
    "    \n",
    "    return chisquare(counts, zipf_counts)[1]\n",
    "\n",
    "def ks2_test(sample, power=1.16, beta=3):\n",
    "    unique, counts = np.unique(np.ceil(sample).astype(int), return_counts=True)\n",
    "    counts[::-1].sort()\n",
    "\n",
    "    frequencies = np.array([1.0 / np.power(i + beta, power) for i in range(1, len(counts) + 1)])\n",
    "    zipf_counts = np.ceil(len(sample) * frequencies / frequencies.sum()).astype(int)\n",
    "\n",
    "    zipf_sample = []\n",
    "    for i in range(len(counts)):\n",
    "        zipf_sample.extend([i + 1 for j in range(zipf_counts[i])])\n",
    "\n",
    "    return ks_2samp(sample, zipf_sample)[1]\n",
    "\n",
    "tests = {'chi': chisquare_test,\n",
    "         'ks2': ks2_test}\n"
   ]
  },
  {
   "cell_type": "code",
   "execution_count": 3,
   "metadata": {},
   "outputs": [],
   "source": [
    "def add_noise(sample, level, distrib, args):\n",
    "    rand_values = np.random.rand(len(sample))\n",
    "    for i in range(len(sample)):\n",
    "        if rand_values[i] < level:\n",
    "            sample[i] = distrib.rvs(*args)\n"
   ]
  },
  {
   "cell_type": "code",
   "execution_count": 4,
   "metadata": {},
   "outputs": [],
   "source": [
    "file = open('war_and_peace.txt', 'r')\n",
    "text = file.read().lower()\n",
    "words = re.sub('\\W', ' ', text).split()[:500000]\n"
   ]
  },
  {
   "cell_type": "code",
   "execution_count": 5,
   "metadata": {},
   "outputs": [],
   "source": [
    "def get_sample(words):\n",
    "    word_counts = Counter(words)\n",
    "    sorted_word_counts = sorted(word_counts.items(), key=lambda kv: -kv[1])\n",
    "    sorted_word_counts = dict([(sorted_word_counts[i][0], i + 1) for i in range(len(sorted_word_counts))])\n",
    "    return np.array([sorted_word_counts[word] for word in words])\n"
   ]
  },
  {
   "cell_type": "markdown",
   "metadata": {},
   "source": [
    "# Baseline"
   ]
  },
  {
   "cell_type": "code",
   "execution_count": 6,
   "metadata": {},
   "outputs": [],
   "source": [
    "pvalues_n = defaultdict(list)\n",
    "sample_sizes = [i * 10000 for i in range(1, 51)]\n",
    "\n",
    "for n in sample_sizes:\n",
    "    sample = get_sample(words[:n])\n",
    "    for name in tests:\n",
    "        pvalues_n[name].append(tests[name](sample))\n"
   ]
  },
  {
   "cell_type": "code",
   "execution_count": 7,
   "metadata": {},
   "outputs": [
    {
     "data": {
      "image/png": "[encoded data removed]",
      "text/plain": [
       "<Figure size 432x288 with 1 Axes>"
      ]
     },
     "metadata": {
      "needs_background": "light"
     },
     "output_type": "display_data"
    }
   ],
   "source": [
    "for name in tests:\n",
    "    plt.plot(sample_sizes, pvalues_n[name], label=name)\n",
    "\n",
    "plt.xlabel('sample_size')\n",
    "plt.ylabel('p-value')\n",
    "plt.legend(bbox_to_anchor=(1.05, 1), loc=2, borderaxespad=0.)\n",
    "plt.show()\n"
   ]
  },
  {
   "cell_type": "code",
   "execution_count": 8,
   "metadata": {},
   "outputs": [],
   "source": [
    "pvalues_l = defaultdict(list)\n",
    "num_blocks = 50\n",
    "num_noise_levels = 30\n",
    "\n",
    "noise_levels = [i / 100 for i in range(num_noise_levels)]\n",
    "for name in tests:\n",
    "    pvalues_l[name] = np.zeros(len(noise_levels))\n",
    "word_blocks = np.split(np.array(words), num_blocks)\n",
    "\n",
    "for k in range(num_blocks):\n",
    "    orig_sample = get_sample(word_blocks[k])\n",
    "    for i in range(num_noise_levels):\n",
    "        sample = orig_sample.copy()\n",
    "        add_noise(sample, noise_levels[i], lognorm, [1])\n",
    "        for name in tests:\n",
    "            pvalues_l[name][i] += tests[name](sample)\n",
    "\n",
    "for name in tests:\n",
    "    pvalues_l[name] /= num_blocks\n"
   ]
  },
  {
   "cell_type": "code",
   "execution_count": 9,
   "metadata": {},
   "outputs": [
    {
     "data": {
      "image/png": "[encoded data removed]",
      "text/plain": [
       "<Figure size 432x288 with 1 Axes>"
      ]
     },
     "metadata": {
      "needs_background": "light"
     },
     "output_type": "display_data"
    }
   ],
   "source": [
    "for name in tests:\n",
    "    plt.plot(noise_levels, pvalues_l[name], label=name)\n",
    "plt.xlabel('noise_level')\n",
    "plt.ylabel('p-value')\n",
    "plt.legend(bbox_to_anchor=(1.05, 1), loc=2, borderaxespad=0.)\n",
    "plt.show()\n"
   ]
  },
  {
   "cell_type": "code",
   "execution_count": 10,
   "metadata": {},
   "outputs": [],
   "source": [
    "# type I errors\n",
    "def get_false_positive(test, words, N=100):\n",
    "    false_positive = 0;\n",
    "    word_blocks = np.split(np.array(words), N)\n",
    "    for i in range(N):\n",
    "        sample = get_sample(word_blocks[k])\n",
    "        if test(sample) <= 0.05:\n",
    "            false_positive += 1\n",
    "    return false_positive / N\n",
    "\n",
    "# type II errors\n",
    "def get_false_negative(test, N=1000, sample_size=1000, distrib=lognorm, args=[10]):\n",
    "    true_negative = 0;\n",
    "    for i in range(N):\n",
    "        sample = distrib.rvs(*args, size=sample_size)\n",
    "        if test(sample) > 0.05:\n",
    "            true_negative += 1\n",
    "    return true_negative / N\n"
   ]
  },
  {
   "cell_type": "code",
   "execution_count": 11,
   "metadata": {},
   "outputs": [
    {
     "name": "stdout",
     "output_type": "stream",
     "text": [
      "false_positive\n",
      "chi 0.0\n",
      "ks2 1.0\n"
     ]
    }
   ],
   "source": [
    "print('false_positive')\n",
    "for name in tests:\n",
    "    print(name, get_false_positive(tests[name], words))\n"
   ]
  },
  {
   "cell_type": "code",
   "execution_count": 12,
   "metadata": {},
   "outputs": [
    {
     "name": "stdout",
     "output_type": "stream",
     "text": [
      "false_negative\n",
      "chi 0.042\n",
      "ks2 0.0\n"
     ]
    }
   ],
   "source": [
    "print('false_negative')\n",
    "for name in tests:\n",
    "    print(name, get_false_negative(tests[name], distrib=lognorm, args=[0.1]))\n"
   ]
  },
  {
   "cell_type": "markdown",
   "metadata": {},
   "source": [
    "# Distributed"
   ]
  },
  {
   "cell_type": "markdown",
   "metadata": {},
   "source": [
    "## Hash"
   ]
  },
  {
   "cell_type": "code",
   "execution_count": 13,
   "metadata": {},
   "outputs": [],
   "source": [
    "def hash_distributed_test(test, sample, paral_size=10):\n",
    "    distributed_sample = defaultdict(list)\n",
    "    for el in sample:\n",
    "        distributed_sample[hash(str(el)) % paral_size].append(el)\n",
    "\n",
    "    sum_pvalue = 0;\n",
    "    for ds in distributed_sample:\n",
    "        sum_pvalue += tests[name](get_sample(distributed_sample[ds]))\n",
    "\n",
    "    return sum_pvalue\n"
   ]
  },
  {
   "cell_type": "code",
   "execution_count": 14,
   "metadata": {},
   "outputs": [],
   "source": [
    "paral_sizes = [i for i in range(1, 20)]\n",
    "pvalues = defaultdict(list)\n",
    "sample = get_sample(words)\n",
    "for name in tests:\n",
    "    for ps in paral_sizes:\n",
    "        pvalues[name].append(hash_distributed_test(tests[name], sample, paral_size=ps) / ps)\n"
   ]
  },
  {
   "cell_type": "code",
   "execution_count": 15,
   "metadata": {},
   "outputs": [
    {
     "data": {
      "image/png": "[encoded data removed]",
      "text/plain": [
       "<Figure size 432x288 with 1 Axes>"
      ]
     },
     "metadata": {
      "needs_background": "light"
     },
     "output_type": "display_data"
    }
   ],
   "source": [
    "for name in tests:\n",
    "    plt.plot(paral_sizes, pvalues[name], label=name)\n",
    "plt.xlabel('paral_size')\n",
    "plt.ylabel('p-value')\n",
    "plt.legend(bbox_to_anchor=(1.05, 1), loc=2, borderaxespad=0.)\n",
    "plt.show()\n"
   ]
  },
  {
   "cell_type": "markdown",
   "metadata": {},
   "source": [
    "## Round-robin"
   ]
  },
  {
   "cell_type": "code",
   "execution_count": 16,
   "metadata": {},
   "outputs": [],
   "source": [
    "def round_distributed_test(test, sample, paral_size=10):\n",
    "    distributed_sample = defaultdict(list)\n",
    "    for i in range(len(sample)):\n",
    "        distributed_sample[i % paral_size].append(sample[i])\n",
    "\n",
    "    sum_pvalue = 0;\n",
    "    for ds in distributed_sample:\n",
    "        sum_pvalue += tests[name](get_sample(distributed_sample[ds]))\n",
    "\n",
    "    return sum_pvalue\n"
   ]
  },
  {
   "cell_type": "code",
   "execution_count": null,
   "metadata": {},
   "outputs": [],
   "source": [
    "paral_sizes = [i for i in range(1, 20)]\n",
    "pvalues = defaultdict(list)\n",
    "sample = get_sample(words)\n",
    "\n",
    "for name in tests:\n",
    "    for ps in paral_sizes:\n",
    "        pvalues[name].append(round_distributed_test(tests[name], sample, paral_size=ps) / ps)\n"
   ]
  },
  {
   "cell_type": "code",
   "execution_count": null,
   "metadata": {},
   "outputs": [],
   "source": [
    "for name in tests:\n",
    "    plt.plot(paral_sizes, pvalues[name], label=name)\n",
    "plt.xlabel('paral_size')\n",
    "plt.ylabel('p-value')\n",
    "plt.legend(bbox_to_anchor=(1.05, 1), loc=2, borderaxespad=0.)\n",
    "plt.show()\n"
   ]
  }
 ],
 "metadata": {
  "kernelspec": {
   "display_name": "Python 3",
   "language": "python",
   "name": "python3"
  },
  "language_info": {
   "codemirror_mode": {
    "name": "ipython",
    "version": 3
   },
   "file_extension": ".py",
   "mimetype": "text/x-python",
   "name": "python",
   "nbconvert_exporter": "python",
   "pygments_lexer": "ipython3",
   "version": "3.7.0"
  }
 },
 "nbformat": 4,
 "nbformat_minor": 2
}
